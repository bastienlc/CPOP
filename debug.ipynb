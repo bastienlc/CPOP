{
 "cells": [
  {
   "cell_type": "code",
   "execution_count": 857,
   "metadata": {},
   "outputs": [],
   "source": [
    "import matplotlib.pyplot as plt\n",
    "import numpy as np\n",
    "from ruptures import Dynp, Pelt\n",
    "import pandas as pd\n",
    "from scipy.stats import median_abs_deviation\n",
    "from src import CPOP\n",
    "from src.utils import compute_costs, linear_segment_cost, log_segment_cost, precompute_sums\n",
    "from src.coefficients import get_segment_coefficients, get_recursive_coefficients"
   ]
  },
  {
   "cell_type": "code",
   "execution_count": 858,
   "metadata": {},
   "outputs": [
    {
     "name": "stdout",
     "output_type": "stream",
     "text": [
      "The autoreload extension is already loaded. To reload it, use:\n",
      "  %reload_ext autoreload\n"
     ]
    }
   ],
   "source": [
    "%load_ext autoreload\n",
    "%autoreload 2"
   ]
  },
  {
   "cell_type": "code",
   "execution_count": 1039,
   "metadata": {},
   "outputs": [],
   "source": [
    "n = 100\n",
    "sigma = 1\n",
    "\n",
    "# create a pice-wise linear signal\n",
    "phis = [0, 50, 25, 100]\n",
    "taus = [0, n // 3, 2 * n // 3, n]\n",
    "\n",
    "signal = np.zeros(n)\n",
    "for i in range(len(taus) - 1):\n",
    "    for t in range(taus[i], taus[i + 1]):\n",
    "        signal[t] = phis[i] + (phis[i + 1] - phis[i]) / (taus[i + 1] - taus[i]) * (\n",
    "            t - taus[i]\n",
    "        )\n",
    "\n",
    "np.random.seed(42)\n",
    "signal += np.random.normal(loc=0, scale=sigma, size=n)"
   ]
  },
  {
   "cell_type": "code",
   "execution_count": 1040,
   "metadata": {},
   "outputs": [],
   "source": [
    "y_cumsum, y_linear_cumsum, y_squarred_cumsum = precompute_sums(signal)\n",
    "\n",
    "cp1, cp2 = 50, 99\n",
    "h = log_segment_cost(1)\n",
    "coeffs0, phi_prime0 = get_segment_coefficients(signal, cp1 + 1, 1, h, return_phi_prime=True)\n",
    "coeffs1, phi_prime1 = get_recursive_coefficients(cp1+1, coeffs0, y_cumsum, y_linear_cumsum, y_squarred_cumsum, cp2+1, 1, 1, h, return_phi_prime=True)\n",
    "a_, b_, c_ = coeffs1\n",
    "phi = -b_ / (2 * c_)\n",
    "phi1 = phi_prime1[0] + phi_prime1[1] * phi\n",
    "phi0 = phi_prime0[0] + phi_prime0[1] * phi1"
   ]
  },
  {
   "cell_type": "code",
   "execution_count": 1041,
   "metadata": {},
   "outputs": [
    {
     "data": {
      "image/png": "[encoded data removed]",
      "text/plain": [
       "<Figure size 432x288 with 1 Axes>"
      ]
     },
     "metadata": {
      "needs_background": "light"
     },
     "output_type": "display_data"
    }
   ],
   "source": [
    "C0 = (phi1 - phi0)/(cp1)\n",
    "approx0 = (np.arange(0, cp1+1))*C0 + phi0\n",
    "\n",
    "C1 = (phi - phi1)/(cp2 - cp1)\n",
    "approx1 = (np.arange(cp1, cp2) - cp1)*C1 + phi1\n",
    "# test = signal[cp1:cp2] - approx\n",
    "plt.plot(signal)\n",
    "plt.plot(np.arange(0, cp1+1), approx0)\n",
    "plt.plot(np.arange(cp1, cp2), approx1)\n",
    "plt.show()\n",
    "# np.sum(test[1:] ** 2) + np.log(cp1 - 1)"
   ]
  },
  {
   "cell_type": "code",
   "execution_count": 1052,
   "metadata": {},
   "outputs": [],
   "source": [
    "total_cost = 0\n",
    "C0 = (phi1 - phi0)/(cp1+1)\n",
    "for i in range(0, cp1+1):\n",
    "    total_cost += (signal[i] - phi0 - C0 * (i + 1))**2"
   ]
  },
  {
   "cell_type": "code",
   "execution_count": 1043,
   "metadata": {},
   "outputs": [],
   "source": [
    "# total_cost += np.log(cp1 + 1)"
   ]
  },
  {
   "cell_type": "code",
   "execution_count": 1057,
   "metadata": {},
   "outputs": [
    {
     "name": "stdout",
     "output_type": "stream",
     "text": [
      "6936.209954828721\n"
     ]
    }
   ],
   "source": [
    "C0 = (phi1 - phi0)/(cp1+1)\n",
    "approx0 = (np.arange(1, cp1+2))*C0 + phi0\n",
    "\n",
    "C1 = (phi - phi1)/(cp2 - cp1)\n",
    "approx1 = (np.arange(cp1+1, cp2+1) - cp1)*C1 + phi1\n",
    "\n",
    "print(np.sum((signal[:cp1+1] - approx0)**2))"
   ]
  },
  {
   "cell_type": "code",
   "execution_count": 1058,
   "metadata": {},
   "outputs": [
    {
     "name": "stdout",
     "output_type": "stream",
     "text": [
      "[6936.20995483]\n",
      "6936.209954828721\n",
      "[-1.8189894e-12]\n"
     ]
    }
   ],
   "source": [
    "print(compute_costs(coeffs0.reshape(1, -1), phi = phi1))\n",
    "print(total_cost)\n",
    "print((compute_costs(coeffs0.reshape(1, -1), phi = phi1) - total_cost))"
   ]
  },
  {
   "cell_type": "code",
   "execution_count": 1047,
   "metadata": {},
   "outputs": [
    {
     "name": "stdout",
     "output_type": "stream",
     "text": [
      "15217.760706919555\n"
     ]
    }
   ],
   "source": [
    "total_cost = compute_costs(coeffs0.reshape(1, -1), phi = phi1)[0]# + np.log(cp1 + 1)\n",
    "C1 = (phi - phi1)/(cp2 - cp1)\n",
    "approx1 = (np.arange(cp1+1, cp2+1) - cp1)*C1 + phi1\n",
    "# assert len(approx1) == cp2 - cp1\n",
    "# assert len(signal[cp1:cp2]) == cp2 - cp1 +1\n",
    "# assert(approx1[0] == phi1)\n",
    "# assert(approx1[-1] == phi)\n",
    "\n",
    "for i in range(cp1+1, cp2+1):\n",
    "    total_cost += (signal[i] - phi1 - C1 * (i - cp1))**2\n",
    "\n",
    "print(total_cost + np.log(cp2 - cp1) + 1)"
   ]
  },
  {
   "cell_type": "code",
   "execution_count": 1048,
   "metadata": {},
   "outputs": [
    {
     "data": {
      "text/plain": [
       "15217.760706919551"
      ]
     },
     "execution_count": 1048,
     "metadata": {},
     "output_type": "execute_result"
    }
   ],
   "source": [
    "np.sum((approx1 - signal[cp1+1:cp2+1])**2) + np.log(cp2 - cp1) + compute_costs(coeffs0.reshape(1, -1), phi = phi1)[0] + 1"
   ]
  },
  {
   "cell_type": "code",
   "execution_count": 1061,
   "metadata": {},
   "outputs": [
    {
     "data": {
      "text/plain": [
       "15217.760706919553"
      ]
     },
     "execution_count": 1061,
     "metadata": {},
     "output_type": "execute_result"
    }
   ],
   "source": [
    "C0 = (phi1 - phi0)/(cp1+1)\n",
    "approx0 = (np.arange(1, cp1+2))*C0 + phi0\n",
    "\n",
    "C1 = (phi - phi1)/(cp2 - cp1)\n",
    "approx1 = (np.arange(cp1+1, cp2+1) - cp1)*C1 + phi1\n",
    "\n",
    "approx = np.concatenate([approx0, approx1])\n",
    "\n",
    "np.sum((approx - signal)**2) + np.log(cp2 - cp1) + 1"
   ]
  },
  {
   "cell_type": "code",
   "execution_count": 1049,
   "metadata": {},
   "outputs": [
    {
     "name": "stdout",
     "output_type": "stream",
     "text": [
      "[15217.76070692]\n"
     ]
    }
   ],
   "source": [
    "print(compute_costs(coeffs1.reshape(1, -1), phi = phi))\n",
    "# print(compute_costs(coeffs0.reshape(1, -1), phi = phi1))"
   ]
  }
 ],
 "metadata": {
  "kernelspec": {
   "display_name": "Python 3",
   "language": "python",
   "name": "python3"
  },
  "language_info": {
   "codemirror_mode": {
    "name": "ipython",
    "version": 3
   },
   "file_extension": ".py",
   "mimetype": "text/x-python",
   "name": "python",
   "nbconvert_exporter": "python",
   "pygments_lexer": "ipython3",
   "version": "3.8.5"
  }
 },
 "nbformat": 4,
 "nbformat_minor": 2
}
